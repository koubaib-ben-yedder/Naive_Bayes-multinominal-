{
 "cells": [
  {
   "cell_type": "code",
   "id": "initial_id",
   "metadata": {
    "collapsed": true,
    "ExecuteTime": {
     "end_time": "2024-09-28T14:19:45.117522Z",
     "start_time": "2024-09-28T14:19:43.113510Z"
    }
   },
   "source": [
    "import pandas as pd\n",
    "from sklearn.naive_bayes import MultinomialNB,GaussianNB\n",
    "from  sklearn import datasets\n",
    "from sklearn.model_selection import train_test_split\n",
    "import scipy.stats as stats\n",
    "import matplotlib.pyplot as plt"
   ],
   "outputs": [],
   "execution_count": 1
  },
  {
   "metadata": {
    "ExecuteTime": {
     "end_time": "2024-09-28T14:19:45.138068Z",
     "start_time": "2024-09-28T14:19:45.119535Z"
    }
   },
   "cell_type": "code",
   "source": "wine=datasets.load_wine()",
   "id": "214f842fddfad74d",
   "outputs": [],
   "execution_count": 2
  },
  {
   "metadata": {
    "ExecuteTime": {
     "end_time": "2024-09-28T14:19:45.142839Z",
     "start_time": "2024-09-28T14:19:45.139074Z"
    }
   },
   "cell_type": "code",
   "source": [
    "df=pd.DataFrame(wine.data,columns=wine.feature_names)\n",
    "df['target'] = wine.target"
   ],
   "id": "dfb9d8d8e4988275",
   "outputs": [],
   "execution_count": 3
  },
  {
   "metadata": {
    "ExecuteTime": {
     "end_time": "2024-09-28T14:19:45.159344Z",
     "start_time": "2024-09-28T14:19:45.143845Z"
    }
   },
   "cell_type": "code",
   "source": "df.head()",
   "id": "30123fdc38dfe49a",
   "outputs": [
    {
     "data": {
      "text/plain": [
       "   alcohol  malic_acid   ash  alcalinity_of_ash  magnesium  total_phenols  \\\n",
       "0    14.23        1.71  2.43               15.6      127.0           2.80   \n",
       "1    13.20        1.78  2.14               11.2      100.0           2.65   \n",
       "2    13.16        2.36  2.67               18.6      101.0           2.80   \n",
       "3    14.37        1.95  2.50               16.8      113.0           3.85   \n",
       "4    13.24        2.59  2.87               21.0      118.0           2.80   \n",
       "\n",
       "   flavanoids  nonflavanoid_phenols  proanthocyanins  color_intensity   hue  \\\n",
       "0        3.06                  0.28             2.29             5.64  1.04   \n",
       "1        2.76                  0.26             1.28             4.38  1.05   \n",
       "2        3.24                  0.30             2.81             5.68  1.03   \n",
       "3        3.49                  0.24             2.18             7.80  0.86   \n",
       "4        2.69                  0.39             1.82             4.32  1.04   \n",
       "\n",
       "   od280/od315_of_diluted_wines  proline  target  \n",
       "0                          3.92   1065.0       0  \n",
       "1                          3.40   1050.0       0  \n",
       "2                          3.17   1185.0       0  \n",
       "3                          3.45   1480.0       0  \n",
       "4                          2.93    735.0       0  "
      ],
      "text/html": [
       "<div>\n",
       "<style scoped>\n",
       "    .dataframe tbody tr th:only-of-type {\n",
       "        vertical-align: middle;\n",
       "    }\n",
       "\n",
       "    .dataframe tbody tr th {\n",
       "        vertical-align: top;\n",
       "    }\n",
       "\n",
       "    .dataframe thead th {\n",
       "        text-align: right;\n",
       "    }\n",
       "</style>\n",
       "<table border=\"1\" class=\"dataframe\">\n",
       "  <thead>\n",
       "    <tr style=\"text-align: right;\">\n",
       "      <th></th>\n",
       "      <th>alcohol</th>\n",
       "      <th>malic_acid</th>\n",
       "      <th>ash</th>\n",
       "      <th>alcalinity_of_ash</th>\n",
       "      <th>magnesium</th>\n",
       "      <th>total_phenols</th>\n",
       "      <th>flavanoids</th>\n",
       "      <th>nonflavanoid_phenols</th>\n",
       "      <th>proanthocyanins</th>\n",
       "      <th>color_intensity</th>\n",
       "      <th>hue</th>\n",
       "      <th>od280/od315_of_diluted_wines</th>\n",
       "      <th>proline</th>\n",
       "      <th>target</th>\n",
       "    </tr>\n",
       "  </thead>\n",
       "  <tbody>\n",
       "    <tr>\n",
       "      <th>0</th>\n",
       "      <td>14.23</td>\n",
       "      <td>1.71</td>\n",
       "      <td>2.43</td>\n",
       "      <td>15.6</td>\n",
       "      <td>127.0</td>\n",
       "      <td>2.80</td>\n",
       "      <td>3.06</td>\n",
       "      <td>0.28</td>\n",
       "      <td>2.29</td>\n",
       "      <td>5.64</td>\n",
       "      <td>1.04</td>\n",
       "      <td>3.92</td>\n",
       "      <td>1065.0</td>\n",
       "      <td>0</td>\n",
       "    </tr>\n",
       "    <tr>\n",
       "      <th>1</th>\n",
       "      <td>13.20</td>\n",
       "      <td>1.78</td>\n",
       "      <td>2.14</td>\n",
       "      <td>11.2</td>\n",
       "      <td>100.0</td>\n",
       "      <td>2.65</td>\n",
       "      <td>2.76</td>\n",
       "      <td>0.26</td>\n",
       "      <td>1.28</td>\n",
       "      <td>4.38</td>\n",
       "      <td>1.05</td>\n",
       "      <td>3.40</td>\n",
       "      <td>1050.0</td>\n",
       "      <td>0</td>\n",
       "    </tr>\n",
       "    <tr>\n",
       "      <th>2</th>\n",
       "      <td>13.16</td>\n",
       "      <td>2.36</td>\n",
       "      <td>2.67</td>\n",
       "      <td>18.6</td>\n",
       "      <td>101.0</td>\n",
       "      <td>2.80</td>\n",
       "      <td>3.24</td>\n",
       "      <td>0.30</td>\n",
       "      <td>2.81</td>\n",
       "      <td>5.68</td>\n",
       "      <td>1.03</td>\n",
       "      <td>3.17</td>\n",
       "      <td>1185.0</td>\n",
       "      <td>0</td>\n",
       "    </tr>\n",
       "    <tr>\n",
       "      <th>3</th>\n",
       "      <td>14.37</td>\n",
       "      <td>1.95</td>\n",
       "      <td>2.50</td>\n",
       "      <td>16.8</td>\n",
       "      <td>113.0</td>\n",
       "      <td>3.85</td>\n",
       "      <td>3.49</td>\n",
       "      <td>0.24</td>\n",
       "      <td>2.18</td>\n",
       "      <td>7.80</td>\n",
       "      <td>0.86</td>\n",
       "      <td>3.45</td>\n",
       "      <td>1480.0</td>\n",
       "      <td>0</td>\n",
       "    </tr>\n",
       "    <tr>\n",
       "      <th>4</th>\n",
       "      <td>13.24</td>\n",
       "      <td>2.59</td>\n",
       "      <td>2.87</td>\n",
       "      <td>21.0</td>\n",
       "      <td>118.0</td>\n",
       "      <td>2.80</td>\n",
       "      <td>2.69</td>\n",
       "      <td>0.39</td>\n",
       "      <td>1.82</td>\n",
       "      <td>4.32</td>\n",
       "      <td>1.04</td>\n",
       "      <td>2.93</td>\n",
       "      <td>735.0</td>\n",
       "      <td>0</td>\n",
       "    </tr>\n",
       "  </tbody>\n",
       "</table>\n",
       "</div>"
      ]
     },
     "execution_count": 4,
     "metadata": {},
     "output_type": "execute_result"
    }
   ],
   "execution_count": 4
  },
  {
   "metadata": {
    "ExecuteTime": {
     "end_time": "2024-09-28T14:19:45.165275Z",
     "start_time": "2024-09-28T14:19:45.161351Z"
    }
   },
   "cell_type": "code",
   "source": [
    "x=df.iloc[:,:-1]\n",
    "y=df.iloc[:,-1]"
   ],
   "id": "dbade0b738138ea9",
   "outputs": [],
   "execution_count": 5
  },
  {
   "metadata": {
    "ExecuteTime": {
     "end_time": "2024-09-28T14:19:45.171920Z",
     "start_time": "2024-09-28T14:19:45.166287Z"
    }
   },
   "cell_type": "code",
   "source": "x_train, x_test, y_train, y_test = train_test_split(x, y, random_state=42, test_size=0.2)",
   "id": "93438673d9690cc",
   "outputs": [],
   "execution_count": 6
  },
  {
   "metadata": {
    "ExecuteTime": {
     "end_time": "2024-09-28T14:19:45.176982Z",
     "start_time": "2024-09-28T14:19:45.172931Z"
    }
   },
   "cell_type": "code",
   "source": "gnb = MultinomialNB()",
   "id": "63be8e6f12e70b72",
   "outputs": [],
   "execution_count": 7
  },
  {
   "metadata": {
    "ExecuteTime": {
     "end_time": "2024-09-28T14:19:45.191737Z",
     "start_time": "2024-09-28T14:19:45.177991Z"
    }
   },
   "cell_type": "code",
   "source": "gnb.fit(x_train,y_train)",
   "id": "3a81d3b72ed8a523",
   "outputs": [
    {
     "data": {
      "text/plain": [
       "MultinomialNB()"
      ],
      "text/html": [
       "<style>#sk-container-id-1 {color: black;}#sk-container-id-1 pre{padding: 0;}#sk-container-id-1 div.sk-toggleable {background-color: white;}#sk-container-id-1 label.sk-toggleable__label {cursor: pointer;display: block;width: 100%;margin-bottom: 0;padding: 0.3em;box-sizing: border-box;text-align: center;}#sk-container-id-1 label.sk-toggleable__label-arrow:before {content: \"▸\";float: left;margin-right: 0.25em;color: #696969;}#sk-container-id-1 label.sk-toggleable__label-arrow:hover:before {color: black;}#sk-container-id-1 div.sk-estimator:hover label.sk-toggleable__label-arrow:before {color: black;}#sk-container-id-1 div.sk-toggleable__content {max-height: 0;max-width: 0;overflow: hidden;text-align: left;background-color: #f0f8ff;}#sk-container-id-1 div.sk-toggleable__content pre {margin: 0.2em;color: black;border-radius: 0.25em;background-color: #f0f8ff;}#sk-container-id-1 input.sk-toggleable__control:checked~div.sk-toggleable__content {max-height: 200px;max-width: 100%;overflow: auto;}#sk-container-id-1 input.sk-toggleable__control:checked~label.sk-toggleable__label-arrow:before {content: \"▾\";}#sk-container-id-1 div.sk-estimator input.sk-toggleable__control:checked~label.sk-toggleable__label {background-color: #d4ebff;}#sk-container-id-1 div.sk-label input.sk-toggleable__control:checked~label.sk-toggleable__label {background-color: #d4ebff;}#sk-container-id-1 input.sk-hidden--visually {border: 0;clip: rect(1px 1px 1px 1px);clip: rect(1px, 1px, 1px, 1px);height: 1px;margin: -1px;overflow: hidden;padding: 0;position: absolute;width: 1px;}#sk-container-id-1 div.sk-estimator {font-family: monospace;background-color: #f0f8ff;border: 1px dotted black;border-radius: 0.25em;box-sizing: border-box;margin-bottom: 0.5em;}#sk-container-id-1 div.sk-estimator:hover {background-color: #d4ebff;}#sk-container-id-1 div.sk-parallel-item::after {content: \"\";width: 100%;border-bottom: 1px solid gray;flex-grow: 1;}#sk-container-id-1 div.sk-label:hover label.sk-toggleable__label {background-color: #d4ebff;}#sk-container-id-1 div.sk-serial::before {content: \"\";position: absolute;border-left: 1px solid gray;box-sizing: border-box;top: 0;bottom: 0;left: 50%;z-index: 0;}#sk-container-id-1 div.sk-serial {display: flex;flex-direction: column;align-items: center;background-color: white;padding-right: 0.2em;padding-left: 0.2em;position: relative;}#sk-container-id-1 div.sk-item {position: relative;z-index: 1;}#sk-container-id-1 div.sk-parallel {display: flex;align-items: stretch;justify-content: center;background-color: white;position: relative;}#sk-container-id-1 div.sk-item::before, #sk-container-id-1 div.sk-parallel-item::before {content: \"\";position: absolute;border-left: 1px solid gray;box-sizing: border-box;top: 0;bottom: 0;left: 50%;z-index: -1;}#sk-container-id-1 div.sk-parallel-item {display: flex;flex-direction: column;z-index: 1;position: relative;background-color: white;}#sk-container-id-1 div.sk-parallel-item:first-child::after {align-self: flex-end;width: 50%;}#sk-container-id-1 div.sk-parallel-item:last-child::after {align-self: flex-start;width: 50%;}#sk-container-id-1 div.sk-parallel-item:only-child::after {width: 0;}#sk-container-id-1 div.sk-dashed-wrapped {border: 1px dashed gray;margin: 0 0.4em 0.5em 0.4em;box-sizing: border-box;padding-bottom: 0.4em;background-color: white;}#sk-container-id-1 div.sk-label label {font-family: monospace;font-weight: bold;display: inline-block;line-height: 1.2em;}#sk-container-id-1 div.sk-label-container {text-align: center;}#sk-container-id-1 div.sk-container {/* jupyter's `normalize.less` sets `[hidden] { display: none; }` but bootstrap.min.css set `[hidden] { display: none !important; }` so we also need the `!important` here to be able to override the default hidden behavior on the sphinx rendered scikit-learn.org. See: https://github.com/scikit-learn/scikit-learn/issues/21755 */display: inline-block !important;position: relative;}#sk-container-id-1 div.sk-text-repr-fallback {display: none;}</style><div id=\"sk-container-id-1\" class=\"sk-top-container\"><div class=\"sk-text-repr-fallback\"><pre>MultinomialNB()</pre><b>In a Jupyter environment, please rerun this cell to show the HTML representation or trust the notebook. <br />On GitHub, the HTML representation is unable to render, please try loading this page with nbviewer.org.</b></div><div class=\"sk-container\" hidden><div class=\"sk-item\"><div class=\"sk-estimator sk-toggleable\"><input class=\"sk-toggleable__control sk-hidden--visually\" id=\"sk-estimator-id-1\" type=\"checkbox\" checked><label for=\"sk-estimator-id-1\" class=\"sk-toggleable__label sk-toggleable__label-arrow\">MultinomialNB</label><div class=\"sk-toggleable__content\"><pre>MultinomialNB()</pre></div></div></div></div></div>"
      ]
     },
     "execution_count": 8,
     "metadata": {},
     "output_type": "execute_result"
    }
   ],
   "execution_count": 8
  },
  {
   "metadata": {
    "ExecuteTime": {
     "end_time": "2024-09-28T14:19:45.198330Z",
     "start_time": "2024-09-28T14:19:45.192742Z"
    }
   },
   "cell_type": "code",
   "source": "gnb.classes_",
   "id": "2208f9a1584059d1",
   "outputs": [
    {
     "data": {
      "text/plain": [
       "array([0, 1, 2])"
      ]
     },
     "execution_count": 9,
     "metadata": {},
     "output_type": "execute_result"
    }
   ],
   "execution_count": 9
  },
  {
   "metadata": {
    "ExecuteTime": {
     "end_time": "2024-09-28T14:19:45.205917Z",
     "start_time": "2024-09-28T14:19:45.199338Z"
    }
   },
   "cell_type": "code",
   "source": "gnb.predict(x_test)",
   "id": "2cca5598cc0c870b",
   "outputs": [
    {
     "data": {
      "text/plain": [
       "array([0, 0, 2, 0, 1, 0, 1, 2, 1, 0, 0, 1, 0, 1, 0, 1, 1, 1, 0, 1, 0, 1,\n",
       "       2, 2, 2, 2, 1, 1, 1, 0, 0, 1, 0, 0, 0, 0])"
      ]
     },
     "execution_count": 10,
     "metadata": {},
     "output_type": "execute_result"
    }
   ],
   "execution_count": 10
  },
  {
   "metadata": {
    "ExecuteTime": {
     "end_time": "2024-09-28T14:19:45.213943Z",
     "start_time": "2024-09-28T14:19:45.206923Z"
    }
   },
   "cell_type": "code",
   "source": "gnb.predict_proba(x_test)",
   "id": "cca7d9f9d325039c",
   "outputs": [
    {
     "data": {
      "text/plain": [
       "array([[8.37425054e-01, 1.27497079e-02, 1.49825239e-01],\n",
       "       [9.99999994e-01, 2.67585322e-13, 5.89999253e-09],\n",
       "       [5.93636747e-08, 1.38682167e-01, 8.61317774e-01],\n",
       "       [1.00000000e+00, 1.64526232e-24, 3.88762363e-18],\n",
       "       [9.57868054e-07, 8.57569472e-01, 1.42429570e-01],\n",
       "       [1.00000000e+00, 8.82312670e-21, 6.64334557e-15],\n",
       "       [2.11365082e-06, 9.23346035e-01, 7.66518514e-02],\n",
       "       [1.66961292e-05, 8.46131247e-04, 9.99137173e-01],\n",
       "       [8.68079638e-03, 9.00926343e-01, 9.03928604e-02],\n",
       "       [8.33609491e-01, 4.53371124e-05, 1.66345172e-01],\n",
       "       [9.99781797e-01, 1.15716893e-05, 2.06631677e-04],\n",
       "       [3.20314903e-19, 8.81378576e-01, 1.18621424e-01],\n",
       "       [1.00000000e+00, 2.40021747e-16, 1.21669294e-11],\n",
       "       [1.44423601e-12, 9.60304517e-01, 3.96954826e-02],\n",
       "       [1.00000000e+00, 3.44252913e-25, 5.41443604e-18],\n",
       "       [1.51862846e-18, 9.99927623e-01, 7.23773776e-05],\n",
       "       [9.49197315e-13, 9.97458852e-01, 2.54114798e-03],\n",
       "       [1.01385441e-02, 5.19830852e-01, 4.70030604e-01],\n",
       "       [1.00000000e+00, 4.02431898e-16, 1.12711228e-11],\n",
       "       [3.71572892e-15, 9.99471950e-01, 5.28050031e-04],\n",
       "       [1.00000000e+00, 1.10311458e-43, 3.42430806e-32],\n",
       "       [5.26682826e-06, 9.63102834e-01, 3.68918995e-02],\n",
       "       [7.42965666e-03, 1.36999658e-01, 8.55570686e-01],\n",
       "       [7.61921280e-13, 4.02131563e-02, 9.59786844e-01],\n",
       "       [6.32104772e-12, 1.71368337e-02, 9.82863166e-01],\n",
       "       [2.59726035e-08, 1.42941588e-03, 9.98570558e-01],\n",
       "       [1.83165801e-22, 9.99991906e-01, 8.09409140e-06],\n",
       "       [3.41930187e-03, 5.45070267e-01, 4.51510431e-01],\n",
       "       [2.41317463e-08, 9.48010771e-01, 5.19892049e-02],\n",
       "       [9.99999999e-01, 4.81215159e-14, 7.13840491e-10],\n",
       "       [1.00000000e+00, 3.71972909e-16, 4.72948015e-12],\n",
       "       [6.57334590e-19, 9.99954768e-01, 4.52317461e-05],\n",
       "       [5.36319020e-01, 3.02550030e-04, 4.63378430e-01],\n",
       "       [1.00000000e+00, 9.77119726e-36, 2.86833301e-26],\n",
       "       [1.00000000e+00, 2.05369708e-31, 2.45160430e-23],\n",
       "       [1.00000000e+00, 5.30648244e-18, 9.38899025e-14]])"
      ]
     },
     "execution_count": 11,
     "metadata": {},
     "output_type": "execute_result"
    }
   ],
   "execution_count": 11
  },
  {
   "metadata": {
    "ExecuteTime": {
     "end_time": "2024-09-28T14:19:45.222570Z",
     "start_time": "2024-09-28T14:19:45.214950Z"
    }
   },
   "cell_type": "code",
   "source": "gnb.score(x_test,y_test)",
   "id": "21361c118327af52",
   "outputs": [
    {
     "data": {
      "text/plain": [
       "0.8888888888888888"
      ]
     },
     "execution_count": 12,
     "metadata": {},
     "output_type": "execute_result"
    }
   ],
   "execution_count": 12
  },
  {
   "metadata": {},
   "cell_type": "markdown",
   "source": [
    "<h5>  Test nomality </h5>\n",
    "<h6> Because GaussianNB assumes that features have a bell shape, I used Jarque Bera to check whether your data has skewness and kurtosis matching a normal distribution.   </h6> "
   ],
   "id": "9c6cd310d3107f27"
  },
  {
   "metadata": {},
   "cell_type": "markdown",
   "source": [
    "<dl><h5>  Hypothesis </h5>\n",
    "<li> h0=  data is normally distributed </li>\n",
    "<li> ha=  data is not normally distributed </li>\n",
    "</dl>\n",
    " "
   ],
   "id": "1cd5c0e152800555"
  },
  {
   "metadata": {
    "ExecuteTime": {
     "end_time": "2024-09-28T14:19:45.241897Z",
     "start_time": "2024-09-28T14:19:45.225585Z"
    }
   },
   "cell_type": "code",
   "source": [
    "results = {}\n",
    "for i in df.columns:\n",
    "   results[i] =  stats.jarque_bera(df[i])"
   ],
   "id": "379c4f26f97b776b",
   "outputs": [],
   "execution_count": 13
  },
  {
   "metadata": {
    "ExecuteTime": {
     "end_time": "2024-09-28T14:19:45.248273Z",
     "start_time": "2024-09-28T14:19:45.243905Z"
    }
   },
   "cell_type": "code",
   "source": "results_df = pd.DataFrame(results, index=['statistic', 'pvalue']).T",
   "id": "e408a17a3ce1410e",
   "outputs": [],
   "execution_count": 14
  },
  {
   "metadata": {
    "ExecuteTime": {
     "end_time": "2024-09-28T14:19:45.257953Z",
     "start_time": "2024-09-28T14:19:45.249279Z"
    }
   },
   "cell_type": "code",
   "source": "results_df[results_df[\"pvalue\"]>0.05]",
   "id": "d81784b9a7ab5d3a",
   "outputs": [
    {
     "data": {
      "text/plain": [
       "                   statistic    pvalue\n",
       "alcohol             5.591543  0.061068\n",
       "alcalinity_of_ash   2.765132  0.250934\n",
       "total_phenols       5.525376  0.063122\n",
       "flavanoids          5.885096  0.052731\n",
       "hue                 1.017508  0.601244"
      ],
      "text/html": [
       "<div>\n",
       "<style scoped>\n",
       "    .dataframe tbody tr th:only-of-type {\n",
       "        vertical-align: middle;\n",
       "    }\n",
       "\n",
       "    .dataframe tbody tr th {\n",
       "        vertical-align: top;\n",
       "    }\n",
       "\n",
       "    .dataframe thead th {\n",
       "        text-align: right;\n",
       "    }\n",
       "</style>\n",
       "<table border=\"1\" class=\"dataframe\">\n",
       "  <thead>\n",
       "    <tr style=\"text-align: right;\">\n",
       "      <th></th>\n",
       "      <th>statistic</th>\n",
       "      <th>pvalue</th>\n",
       "    </tr>\n",
       "  </thead>\n",
       "  <tbody>\n",
       "    <tr>\n",
       "      <th>alcohol</th>\n",
       "      <td>5.591543</td>\n",
       "      <td>0.061068</td>\n",
       "    </tr>\n",
       "    <tr>\n",
       "      <th>alcalinity_of_ash</th>\n",
       "      <td>2.765132</td>\n",
       "      <td>0.250934</td>\n",
       "    </tr>\n",
       "    <tr>\n",
       "      <th>total_phenols</th>\n",
       "      <td>5.525376</td>\n",
       "      <td>0.063122</td>\n",
       "    </tr>\n",
       "    <tr>\n",
       "      <th>flavanoids</th>\n",
       "      <td>5.885096</td>\n",
       "      <td>0.052731</td>\n",
       "    </tr>\n",
       "    <tr>\n",
       "      <th>hue</th>\n",
       "      <td>1.017508</td>\n",
       "      <td>0.601244</td>\n",
       "    </tr>\n",
       "  </tbody>\n",
       "</table>\n",
       "</div>"
      ]
     },
     "execution_count": 15,
     "metadata": {},
     "output_type": "execute_result"
    }
   ],
   "execution_count": 15
  },
  {
   "metadata": {},
   "cell_type": "markdown",
   "source": [
    "<h5> Interception </h5>\n",
    "<h6> alcohol and alcalinity_of_ash and total_phenols and flavanoids and hue the have enough statistic significant ( pvalue >0.05) </h6>"
   ],
   "id": "e5b6aa5f34ebded"
  },
  {
   "metadata": {},
   "cell_type": "markdown",
   "source": [
    "<h5> Visualisation </h5>\n",
    "<h6>    Check jarque bera result</h6>"
   ],
   "id": "e8ec4f4fcc50acd0"
  },
  {
   "metadata": {
    "ExecuteTime": {
     "end_time": "2024-09-28T14:19:46.187982Z",
     "start_time": "2024-09-28T14:19:45.258962Z"
    }
   },
   "cell_type": "code",
   "source": [
    "df[[\"alcohol\",\"alcalinity_of_ash\",\"total_phenols\",\"flavanoids\",\"hue\"]].hist(figsize=(20,20))\n",
    "plt.show()"
   ],
   "id": "b263d1e7c44d4762",
   "outputs": [
    {
     "data": {
      "text/plain": [
       "<Figure size 2000x2000 with 6 Axes>"
      ],
      "image/png": "[encoded data removed]"
     },
     "metadata": {},
     "output_type": "display_data"
    }
   ],
   "execution_count": 16
  },
  {
   "metadata": {},
   "cell_type": "markdown",
   "source": [
    "<h5> Interception </h5>\n",
    "<h6> You can guarantee the result of jraque bera is roughly bell shape </h6>"
   ],
   "id": "3d87db420e058272"
  },
  {
   "metadata": {
    "ExecuteTime": {
     "end_time": "2024-09-28T14:19:46.192910Z",
     "start_time": "2024-09-28T14:19:46.188988Z"
    }
   },
   "cell_type": "code",
   "source": "gnb=GaussianNB()",
   "id": "2297fb3c46e4809e",
   "outputs": [],
   "execution_count": 17
  },
  {
   "metadata": {
    "ExecuteTime": {
     "end_time": "2024-09-28T14:19:46.201656Z",
     "start_time": "2024-09-28T14:19:46.193914Z"
    }
   },
   "cell_type": "code",
   "source": "gnb.fit(x_train,y_train)",
   "id": "55c279017d74c9bd",
   "outputs": [
    {
     "data": {
      "text/plain": [
       "GaussianNB()"
      ],
      "text/html": [
       "<style>#sk-container-id-2 {color: black;}#sk-container-id-2 pre{padding: 0;}#sk-container-id-2 div.sk-toggleable {background-color: white;}#sk-container-id-2 label.sk-toggleable__label {cursor: pointer;display: block;width: 100%;margin-bottom: 0;padding: 0.3em;box-sizing: border-box;text-align: center;}#sk-container-id-2 label.sk-toggleable__label-arrow:before {content: \"▸\";float: left;margin-right: 0.25em;color: #696969;}#sk-container-id-2 label.sk-toggleable__label-arrow:hover:before {color: black;}#sk-container-id-2 div.sk-estimator:hover label.sk-toggleable__label-arrow:before {color: black;}#sk-container-id-2 div.sk-toggleable__content {max-height: 0;max-width: 0;overflow: hidden;text-align: left;background-color: #f0f8ff;}#sk-container-id-2 div.sk-toggleable__content pre {margin: 0.2em;color: black;border-radius: 0.25em;background-color: #f0f8ff;}#sk-container-id-2 input.sk-toggleable__control:checked~div.sk-toggleable__content {max-height: 200px;max-width: 100%;overflow: auto;}#sk-container-id-2 input.sk-toggleable__control:checked~label.sk-toggleable__label-arrow:before {content: \"▾\";}#sk-container-id-2 div.sk-estimator input.sk-toggleable__control:checked~label.sk-toggleable__label {background-color: #d4ebff;}#sk-container-id-2 div.sk-label input.sk-toggleable__control:checked~label.sk-toggleable__label {background-color: #d4ebff;}#sk-container-id-2 input.sk-hidden--visually {border: 0;clip: rect(1px 1px 1px 1px);clip: rect(1px, 1px, 1px, 1px);height: 1px;margin: -1px;overflow: hidden;padding: 0;position: absolute;width: 1px;}#sk-container-id-2 div.sk-estimator {font-family: monospace;background-color: #f0f8ff;border: 1px dotted black;border-radius: 0.25em;box-sizing: border-box;margin-bottom: 0.5em;}#sk-container-id-2 div.sk-estimator:hover {background-color: #d4ebff;}#sk-container-id-2 div.sk-parallel-item::after {content: \"\";width: 100%;border-bottom: 1px solid gray;flex-grow: 1;}#sk-container-id-2 div.sk-label:hover label.sk-toggleable__label {background-color: #d4ebff;}#sk-container-id-2 div.sk-serial::before {content: \"\";position: absolute;border-left: 1px solid gray;box-sizing: border-box;top: 0;bottom: 0;left: 50%;z-index: 0;}#sk-container-id-2 div.sk-serial {display: flex;flex-direction: column;align-items: center;background-color: white;padding-right: 0.2em;padding-left: 0.2em;position: relative;}#sk-container-id-2 div.sk-item {position: relative;z-index: 1;}#sk-container-id-2 div.sk-parallel {display: flex;align-items: stretch;justify-content: center;background-color: white;position: relative;}#sk-container-id-2 div.sk-item::before, #sk-container-id-2 div.sk-parallel-item::before {content: \"\";position: absolute;border-left: 1px solid gray;box-sizing: border-box;top: 0;bottom: 0;left: 50%;z-index: -1;}#sk-container-id-2 div.sk-parallel-item {display: flex;flex-direction: column;z-index: 1;position: relative;background-color: white;}#sk-container-id-2 div.sk-parallel-item:first-child::after {align-self: flex-end;width: 50%;}#sk-container-id-2 div.sk-parallel-item:last-child::after {align-self: flex-start;width: 50%;}#sk-container-id-2 div.sk-parallel-item:only-child::after {width: 0;}#sk-container-id-2 div.sk-dashed-wrapped {border: 1px dashed gray;margin: 0 0.4em 0.5em 0.4em;box-sizing: border-box;padding-bottom: 0.4em;background-color: white;}#sk-container-id-2 div.sk-label label {font-family: monospace;font-weight: bold;display: inline-block;line-height: 1.2em;}#sk-container-id-2 div.sk-label-container {text-align: center;}#sk-container-id-2 div.sk-container {/* jupyter's `normalize.less` sets `[hidden] { display: none; }` but bootstrap.min.css set `[hidden] { display: none !important; }` so we also need the `!important` here to be able to override the default hidden behavior on the sphinx rendered scikit-learn.org. See: https://github.com/scikit-learn/scikit-learn/issues/21755 */display: inline-block !important;position: relative;}#sk-container-id-2 div.sk-text-repr-fallback {display: none;}</style><div id=\"sk-container-id-2\" class=\"sk-top-container\"><div class=\"sk-text-repr-fallback\"><pre>GaussianNB()</pre><b>In a Jupyter environment, please rerun this cell to show the HTML representation or trust the notebook. <br />On GitHub, the HTML representation is unable to render, please try loading this page with nbviewer.org.</b></div><div class=\"sk-container\" hidden><div class=\"sk-item\"><div class=\"sk-estimator sk-toggleable\"><input class=\"sk-toggleable__control sk-hidden--visually\" id=\"sk-estimator-id-2\" type=\"checkbox\" checked><label for=\"sk-estimator-id-2\" class=\"sk-toggleable__label sk-toggleable__label-arrow\">GaussianNB</label><div class=\"sk-toggleable__content\"><pre>GaussianNB()</pre></div></div></div></div></div>"
      ]
     },
     "execution_count": 18,
     "metadata": {},
     "output_type": "execute_result"
    }
   ],
   "execution_count": 18
  },
  {
   "metadata": {
    "ExecuteTime": {
     "end_time": "2024-09-28T14:19:46.208251Z",
     "start_time": "2024-09-28T14:19:46.202661Z"
    }
   },
   "cell_type": "code",
   "source": "gnb.classes_",
   "id": "1a63fcd710f919fb",
   "outputs": [
    {
     "data": {
      "text/plain": [
       "array([0, 1, 2])"
      ]
     },
     "execution_count": 19,
     "metadata": {},
     "output_type": "execute_result"
    }
   ],
   "execution_count": 19
  },
  {
   "metadata": {
    "ExecuteTime": {
     "end_time": "2024-09-28T14:19:46.215927Z",
     "start_time": "2024-09-28T14:19:46.209257Z"
    }
   },
   "cell_type": "code",
   "source": "gnb.predict(x_test)",
   "id": "c930a0295d62fb9f",
   "outputs": [
    {
     "data": {
      "text/plain": [
       "array([0, 0, 2, 0, 1, 0, 1, 2, 1, 2, 0, 2, 0, 1, 0, 1, 1, 1, 0, 1, 0, 1,\n",
       "       1, 2, 2, 2, 1, 1, 1, 0, 0, 1, 2, 0, 0, 0])"
      ]
     },
     "execution_count": 20,
     "metadata": {},
     "output_type": "execute_result"
    }
   ],
   "execution_count": 20
  },
  {
   "metadata": {
    "ExecuteTime": {
     "end_time": "2024-09-28T14:19:46.223639Z",
     "start_time": "2024-09-28T14:19:46.216933Z"
    }
   },
   "cell_type": "code",
   "source": "gnb.predict_proba(x_test)",
   "id": "38c9a7f99467d8b6",
   "outputs": [
    {
     "data": {
      "text/plain": [
       "array([[9.99991820e-01, 8.17986629e-06, 1.75844851e-31],\n",
       "       [9.99999053e-01, 9.46598997e-07, 1.78086968e-25],\n",
       "       [1.13448660e-18, 1.99953560e-03, 9.98000464e-01],\n",
       "       [9.99999999e-01, 7.71694277e-10, 4.13905530e-37],\n",
       "       [4.85016095e-07, 9.99999515e-01, 1.99877483e-22],\n",
       "       [1.00000000e+00, 2.47066704e-12, 1.42452382e-33],\n",
       "       [7.95594246e-11, 1.00000000e+00, 6.55702700e-13],\n",
       "       [3.15918793e-21, 4.37517039e-12, 1.00000000e+00],\n",
       "       [1.94710799e-04, 9.99805289e-01, 5.67647705e-29],\n",
       "       [2.42169478e-15, 5.33549614e-04, 9.99466450e-01],\n",
       "       [9.93827013e-01, 6.17298732e-03, 1.83781764e-32],\n",
       "       [1.37658180e-18, 3.84803880e-12, 1.00000000e+00],\n",
       "       [9.86542823e-01, 1.34571766e-02, 3.14047577e-20],\n",
       "       [7.68155801e-16, 9.82464750e-01, 1.75352499e-02],\n",
       "       [1.00000000e+00, 2.78016158e-13, 4.69430467e-35],\n",
       "       [1.25924089e-07, 9.99999874e-01, 2.81153369e-15],\n",
       "       [4.42564516e-11, 1.00000000e+00, 4.05508262e-12],\n",
       "       [2.99568596e-12, 1.00000000e+00, 1.13161503e-13],\n",
       "       [1.00000000e+00, 1.16206194e-11, 9.87868150e-40],\n",
       "       [1.13133637e-08, 9.99999989e-01, 2.19397345e-19],\n",
       "       [1.00000000e+00, 4.04187890e-22, 6.17606318e-59],\n",
       "       [3.18591996e-01, 6.81408004e-01, 6.80506976e-35],\n",
       "       [2.43168670e-16, 9.99826495e-01, 1.73505362e-04],\n",
       "       [1.23408452e-19, 2.98728031e-13, 1.00000000e+00],\n",
       "       [7.10903161e-29, 2.15985533e-18, 1.00000000e+00],\n",
       "       [7.07192544e-24, 1.17724326e-18, 1.00000000e+00],\n",
       "       [4.53176013e-08, 9.99999955e-01, 2.35118322e-16],\n",
       "       [1.36668645e-02, 9.86333136e-01, 1.76260378e-16],\n",
       "       [8.04757256e-14, 9.99999270e-01, 7.30054928e-07],\n",
       "       [9.99999997e-01, 2.70647612e-09, 9.92082030e-30],\n",
       "       [9.99999305e-01, 6.94947125e-07, 9.14210749e-31],\n",
       "       [6.43006687e-09, 9.99999994e-01, 1.37380635e-16],\n",
       "       [8.16729277e-22, 7.29635235e-06, 9.99992704e-01],\n",
       "       [1.00000000e+00, 3.47818916e-15, 1.21420599e-41],\n",
       "       [1.00000000e+00, 1.88697780e-10, 2.34380035e-32],\n",
       "       [9.99999997e-01, 2.75077349e-09, 2.65193217e-46]])"
      ]
     },
     "execution_count": 21,
     "metadata": {},
     "output_type": "execute_result"
    }
   ],
   "execution_count": 21
  },
  {
   "metadata": {
    "ExecuteTime": {
     "end_time": "2024-09-28T14:19:46.233120Z",
     "start_time": "2024-09-28T14:19:46.225646Z"
    }
   },
   "cell_type": "code",
   "source": "gnb.score(x_test,y_test)",
   "id": "ecbe3bdf1707e34",
   "outputs": [
    {
     "data": {
      "text/plain": [
       "1.0"
      ]
     },
     "execution_count": 22,
     "metadata": {},
     "output_type": "execute_result"
    }
   ],
   "execution_count": 22
  }
 ],
 "metadata": {
  "kernelspec": {
   "display_name": "Python 3",
   "language": "python",
   "name": "python3"
  },
  "language_info": {
   "codemirror_mode": {
    "name": "ipython",
    "version": 2
   },
   "file_extension": ".py",
   "mimetype": "text/x-python",
   "name": "python",
   "nbconvert_exporter": "python",
   "pygments_lexer": "ipython2",
   "version": "2.7.6"
  }
 },
 "nbformat": 4,
 "nbformat_minor": 5
}
