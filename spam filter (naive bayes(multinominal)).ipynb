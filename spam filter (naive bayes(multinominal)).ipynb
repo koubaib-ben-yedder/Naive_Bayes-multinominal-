{
 "cells": [
  {
   "cell_type": "code",
   "id": "initial_id",
   "metadata": {
    "collapsed": true,
    "ExecuteTime": {
     "end_time": "2024-09-30T16:39:39.731071Z",
     "start_time": "2024-09-30T16:39:39.726946Z"
    }
   },
   "source": [
    "from sklearn.naive_bayes import MultinomialNB,BernoulliNB\n",
    "from sklearn.model_selection import train_test_split\n",
    "from sklearn.metrics import classification_report\n",
    "import pandas as pd\n",
    "from sklearn.feature_extraction.text import  CountVectorizer\n",
    "from sklearn.pipeline import Pipeline"
   ],
   "outputs": [],
   "execution_count": 28
  },
  {
   "cell_type": "code",
   "id": "3decfca5d0ed90d5",
   "metadata": {
    "ExecuteTime": {
     "end_time": "2024-09-30T16:35:06.531560Z",
     "start_time": "2024-09-30T16:35:06.516935Z"
    }
   },
   "source": [
    "spam=pd.read_csv('spam.csv')"
   ],
   "outputs": [],
   "execution_count": 19
  },
  {
   "cell_type": "code",
   "id": "2d9d4248b26b2a7d",
   "metadata": {
    "ExecuteTime": {
     "end_time": "2024-09-30T16:35:06.537168Z",
     "start_time": "2024-09-30T16:35:06.532566Z"
    }
   },
   "source": [
    "spam[\"Category\"]=spam[\"Category\"].map({'ham':0,'spam':1})"
   ],
   "outputs": [],
   "execution_count": 20
  },
  {
   "cell_type": "code",
   "id": "9b5d9c98616bdb0b",
   "metadata": {
    "ExecuteTime": {
     "end_time": "2024-09-30T16:35:06.541892Z",
     "start_time": "2024-09-30T16:35:06.538176Z"
    }
   },
   "source": [
    "x=spam[\"Message\"]\n",
    "y=spam[\"Category\"]"
   ],
   "outputs": [],
   "execution_count": 21
  },
  {
   "cell_type": "code",
   "id": "abbcca4d7db4a422",
   "metadata": {
    "ExecuteTime": {
     "end_time": "2024-09-30T16:35:06.548188Z",
     "start_time": "2024-09-30T16:35:06.542899Z"
    }
   },
   "source": [
    "x_train,x_test,y_train,y_test=train_test_split(x,y,random_state=42,test_size=0.2)"
   ],
   "outputs": [],
   "execution_count": 22
  },
  {
   "cell_type": "code",
   "id": "2a96e404a97dd4ab",
   "metadata": {
    "ExecuteTime": {
     "end_time": "2024-09-30T16:35:06.659228Z",
     "start_time": "2024-09-30T16:35:06.550194Z"
    }
   },
   "source": [
    "cv=CountVectorizer()\n",
    "x_train_count_vectorizer=cv.fit_transform(x_train.values)\n",
    "x_train_count_vectorizer.toarray()[:4]\n"
   ],
   "outputs": [
    {
     "data": {
      "text/plain": [
       "array([[0, 0, 0, ..., 0, 0, 0],\n",
       "       [0, 0, 0, ..., 0, 0, 0],\n",
       "       [0, 0, 0, ..., 0, 0, 0],\n",
       "       [0, 0, 0, ..., 0, 0, 0]], dtype=int64)"
      ]
     },
     "execution_count": 23,
     "metadata": {},
     "output_type": "execute_result"
    }
   ],
   "execution_count": 23
  },
  {
   "cell_type": "code",
   "id": "b2c12384f666c48e",
   "metadata": {
    "ExecuteTime": {
     "end_time": "2024-09-30T16:35:06.694774Z",
     "start_time": "2024-09-30T16:35:06.661238Z"
    }
   },
   "source": [
    "x_test_count_vectorizer=cv.transform(x_test.values)\n",
    "x_test_count_vectorizer.toarray()[:4]"
   ],
   "outputs": [
    {
     "data": {
      "text/plain": [
       "array([[0, 0, 0, ..., 0, 0, 0],\n",
       "       [0, 0, 0, ..., 0, 0, 0],\n",
       "       [0, 0, 0, ..., 0, 0, 0],\n",
       "       [0, 0, 0, ..., 0, 0, 0]], dtype=int64)"
      ]
     },
     "execution_count": 24,
     "metadata": {},
     "output_type": "execute_result"
    }
   ],
   "execution_count": 24
  },
  {
   "cell_type": "markdown",
   "id": "66d3286dbfc9c101",
   "metadata": {},
   "source": [
    "<h6> 1) MultinomialNB </h6>"
   ]
  },
  {
   "cell_type": "code",
   "id": "4edb28e5ee355f2e",
   "metadata": {
    "ExecuteTime": {
     "end_time": "2024-09-30T16:35:06.706451Z",
     "start_time": "2024-09-30T16:35:06.696784Z"
    }
   },
   "source": [
    "mnb=MultinomialNB()\n",
    "mnb.fit(x_train_count_vectorizer,y_train)\n",
    "y_pred=mnb.predict(x_test_count_vectorizer)\n",
    "y_pred"
   ],
   "outputs": [
    {
     "data": {
      "text/plain": [
       "array([0, 0, 0, ..., 0, 0, 0], dtype=int64)"
      ]
     },
     "execution_count": 25,
     "metadata": {},
     "output_type": "execute_result"
    }
   ],
   "execution_count": 25
  },
  {
   "cell_type": "code",
   "id": "c6a6b2a3f2a9f478",
   "metadata": {
    "ExecuteTime": {
     "end_time": "2024-09-30T16:37:39.913914Z",
     "start_time": "2024-09-30T16:37:39.902463Z"
    }
   },
   "source": "print(classification_report(y_test,y_pred))",
   "outputs": [
    {
     "name": "stdout",
     "output_type": "stream",
     "text": [
      "              precision    recall  f1-score   support\n",
      "\n",
      "           0       0.99      1.00      1.00       966\n",
      "           1       1.00      0.94      0.97       149\n",
      "\n",
      "    accuracy                           0.99      1115\n",
      "   macro avg       1.00      0.97      0.98      1115\n",
      "weighted avg       0.99      0.99      0.99      1115\n",
      "\n"
     ]
    }
   ],
   "execution_count": 27
  },
  {
   "metadata": {
    "ExecuteTime": {
     "end_time": "2024-09-30T16:39:43.985263Z",
     "start_time": "2024-09-30T16:39:43.980143Z"
    }
   },
   "cell_type": "code",
   "source": [
    "pipeline = Pipeline([\n",
    "    ('vectorizer', CountVectorizer()),\n",
    "    ('classifier', MultinomialNB())\n",
    "])"
   ],
   "id": "7108f42cd7090f1d",
   "outputs": [],
   "execution_count": 29
  },
  {
   "metadata": {
    "ExecuteTime": {
     "end_time": "2024-09-30T16:40:06.946171Z",
     "start_time": "2024-09-30T16:40:06.873665Z"
    }
   },
   "cell_type": "code",
   "source": [
    "pipeline.fit(x_train.values, y_train)\n",
    "\n",
    "# Predict on the testing data\n",
    "y_pred = pipeline.predict(x_test.values)\n",
    "\n",
    "# Output predictions\n",
    "print(y_pred)"
   ],
   "id": "a1feab638792482b",
   "outputs": [
    {
     "name": "stdout",
     "output_type": "stream",
     "text": [
      "[0 0 0 ... 0 0 0]\n"
     ]
    }
   ],
   "execution_count": 30
  },
  {
   "metadata": {
    "ExecuteTime": {
     "end_time": "2024-09-30T16:40:19.213056Z",
     "start_time": "2024-09-30T16:40:19.202180Z"
    }
   },
   "cell_type": "code",
   "source": "print(classification_report(y_test,y_pred))",
   "id": "48bdc591e40797de",
   "outputs": [
    {
     "name": "stdout",
     "output_type": "stream",
     "text": [
      "              precision    recall  f1-score   support\n",
      "\n",
      "           0       0.99      1.00      1.00       966\n",
      "           1       1.00      0.94      0.97       149\n",
      "\n",
      "    accuracy                           0.99      1115\n",
      "   macro avg       1.00      0.97      0.98      1115\n",
      "weighted avg       0.99      0.99      0.99      1115\n",
      "\n"
     ]
    }
   ],
   "execution_count": 31
  },
  {
   "metadata": {},
   "cell_type": "code",
   "outputs": [],
   "execution_count": null,
   "source": "",
   "id": "caa59a209a736e41"
  }
 ],
 "metadata": {
  "kernelspec": {
   "display_name": "Python 3",
   "language": "python",
   "name": "python3"
  },
  "language_info": {
   "codemirror_mode": {
    "name": "ipython",
    "version": 2
   },
   "file_extension": ".py",
   "mimetype": "text/x-python",
   "name": "python",
   "nbconvert_exporter": "python",
   "pygments_lexer": "ipython2",
   "version": "2.7.6"
  }
 },
 "nbformat": 4,
 "nbformat_minor": 5
}
